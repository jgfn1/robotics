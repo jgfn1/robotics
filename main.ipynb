{
 "cells": [
  {
   "cell_type": "code",
   "execution_count": 3,
   "metadata": {},
   "outputs": [],
   "source": [
    "import numpy as np\n",
    "import math"
   ]
  },
  {
   "cell_type": "code",
   "execution_count": 4,
   "metadata": {},
   "outputs": [],
   "source": [
    "def SE2_theta(theta: float=0):\n",
    "    return np.matrix([\n",
    "        [np.cos(theta), -np.sin(theta), 0],\n",
    "        [np.sin(theta), np.cos(theta), 0],\n",
    "        [0, 0, 1]\n",
    "    ])\n",
    "\n",
    "def SE2_xy(x, y):\n",
    "    m = np.array([\n",
    "        [1, 0, x],\n",
    "        [0, 1, y],\n",
    "        [0, 0, 1]\n",
    "    ])\n",
    "    return m\n",
    "\n",
    "def ik(theta1, theta2):\n",
    "    a1 = 1.0\n",
    "    a2 = 1.0\n",
    "    dist_sq = x**2 + y**2\n",
    "\n",
    "    cos_theta2 = (dist_sq - a1**2 - a2**2)/(2*a1*a2)\n",
    "\n",
    "    cos_theta2 = max(min(cos_theta2,1),-1)\n",
    "    sin_theta2 = np.sqrt(max(0,1 - cos_theta2**2))\n",
    "\n",
    "    theta2 = math.atan2(sin_theta2, cos_theta2)\n",
    "\n",
    "    theta1 = math.atan2(y, x) - math.atan2(a2*sin_theta2, a1 + a2*cos_theta2)\n",
    "\n",
    "    return (theta1, theta2)\n",
    "\n",
    "def fk(theta1, theta2):\n",
    "    a1 = 1.0\n",
    "    a2 = 1.0\n",
    "    x = a1 * np.cos(theta1) + a2 * np.cos(theta1 + theta2)\n",
    "    y = a1 * np.sin(theta1) + a2 * np.sin(theta1 + theta2)\n",
    "    th = theta1 + theta2\n",
    "    return (x, y, th)\n"
   ]
  },
  {
   "cell_type": "code",
   "execution_count": 5,
   "metadata": {},
   "outputs": [
    {
     "data": {
      "text/plain": [
       "array([1.5 , 0.75, 1.  ])"
      ]
     },
     "execution_count": 5,
     "metadata": {},
     "output_type": "execute_result"
    }
   ],
   "source": [
    "SE2_xy(1, .25) @ np.array([.5, .5, 1])"
   ]
  },
  {
   "cell_type": "code",
   "execution_count": 6,
   "metadata": {},
   "outputs": [
    {
     "data": {
      "text/plain": [
       "array([-0.5 ,  0.25,  1.  ])"
      ]
     },
     "execution_count": 6,
     "metadata": {},
     "output_type": "execute_result"
    }
   ],
   "source": [
    "np.linalg.inv(SE2_xy(1, .25)) @ np.array([.5, .5, 1])"
   ]
  },
  {
   "cell_type": "code",
   "execution_count": 7,
   "metadata": {},
   "outputs": [
    {
     "data": {
      "text/plain": [
       "matrix([[1.        , 0.95710678, 1.        ]])"
      ]
     },
     "execution_count": 7,
     "metadata": {},
     "output_type": "execute_result"
    }
   ],
   "source": [
    "(SE2_xy(1, 0.25) @ SE2_theta(np.radians(45))) @ (np.array([.5, .5, 1]))"
   ]
  },
  {
   "cell_type": "code",
   "execution_count": 8,
   "metadata": {},
   "outputs": [
    {
     "data": {
      "text/plain": [
       "matrix([[-0.1767767 ,  0.53033009,  1.        ]])"
      ]
     },
     "execution_count": 8,
     "metadata": {},
     "output_type": "execute_result"
    }
   ],
   "source": [
    "np.linalg.inv(SE2_xy(1, 0.25) @ SE2_theta(np.radians(45))) @ np.array([.5, .5, 1])"
   ]
  },
  {
   "cell_type": "code",
   "execution_count": 10,
   "metadata": {},
   "outputs": [
    {
     "name": "stdout",
     "output_type": "stream",
     "text": [
      "theta_1 = 0.0000, theta2 = 1.5708 => (1.0, 1.0, 1.5707963267948966)\n",
      "theta_1 = 1.5708, theta2 = 1.5708 => (-0.9999999999999999, 1.0000000000000002, 3.141592653589793)\n",
      "theta_1 = 1.5708, theta2 = -1.5708 => (1.0, 1.0, 0.0)\n",
      "theta_1 = -3.1416, theta2 = 3.1416 => (0.0, -1.2246467991473532e-16, 0.0)\n"
     ]
    }
   ],
   "source": [
    "angles = ((0, 90), (90, 90), (90, -90), (-180, 180))\n",
    "for theta_1, theta_2 in angles:\n",
    "    t1, t2 = np.radians(theta_1), np.radians(theta_2)   \n",
    "    print(\"theta_1 = {:.4f}, theta2 = {:.4f} => {}\".format(t1, t2, fk(t1, t2)))"
   ]
  },
  {
   "cell_type": "code",
   "execution_count": 14,
   "metadata": {},
   "outputs": [
    {
     "name": "stdout",
     "output_type": "stream",
     "text": [
      "(1, 1) => 0.00 | 1.57 | \n",
      "(1, -1) => -1.57 | 1.57 | \n",
      "(-1, 1) => 1.57 | 1.57 | \n",
      "(-1, -1) => -3.14 | 1.57 | \n",
      "(2, 1) => 0.46 | 0.00 | \n",
      "(2, 0) => 0.00 | 0.00 | \n",
      "(0, 2) => 1.57 | 0.00 | \n",
      "(-2, 0) => 3.14 | 0.00 | \n"
     ]
    }
   ],
   "source": [
    "points = ((1, 1), (1, -1), (-1, 1), (-1, -1), (2, 1), (2, 0), (0, 2), (-2, 0))\n",
    "for x, y in points:\n",
    "    print(f\"({x}, {y}) =>\", (\"{:.2f} | \" * 2).format(*ik(x, y)))"
   ]
  }
 ],
 "metadata": {
  "kernelspec": {
   "display_name": "Python 3",
   "language": "python",
   "name": "python3"
  },
  "language_info": {
   "codemirror_mode": {
    "name": "ipython",
    "version": 3
   },
   "file_extension": ".py",
   "mimetype": "text/x-python",
   "name": "python",
   "nbconvert_exporter": "python",
   "pygments_lexer": "ipython3",
   "version": "3.12.8"
  }
 },
 "nbformat": 4,
 "nbformat_minor": 2
}
